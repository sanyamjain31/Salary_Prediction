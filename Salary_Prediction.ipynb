{
 "cells": [
  {
   "cell_type": "code",
   "execution_count": 1,
   "id": "1f2c561a",
   "metadata": {},
   "outputs": [],
   "source": [
    "import pandas as pd "
   ]
  },
  {
   "cell_type": "code",
   "execution_count": 2,
   "id": "6a3fca44",
   "metadata": {},
   "outputs": [
    {
     "data": {
      "text/html": [
       "<div>\n",
       "<style scoped>\n",
       "    .dataframe tbody tr th:only-of-type {\n",
       "        vertical-align: middle;\n",
       "    }\n",
       "\n",
       "    .dataframe tbody tr th {\n",
       "        vertical-align: top;\n",
       "    }\n",
       "\n",
       "    .dataframe thead th {\n",
       "        text-align: right;\n",
       "    }\n",
       "</style>\n",
       "<table border=\"1\" class=\"dataframe\">\n",
       "  <thead>\n",
       "    <tr style=\"text-align: right;\">\n",
       "      <th></th>\n",
       "      <th>Timestamp</th>\n",
       "      <th>Name</th>\n",
       "      <th>University Name</th>\n",
       "      <th>University_Cat</th>\n",
       "      <th>Backlogs</th>\n",
       "      <th>CGPA</th>\n",
       "      <th>Year of Passout</th>\n",
       "      <th>Qualification</th>\n",
       "      <th>Salary</th>\n",
       "    </tr>\n",
       "  </thead>\n",
       "  <tbody>\n",
       "    <tr>\n",
       "      <th>0</th>\n",
       "      <td>2021/04/03 8:22:22 PM GMT+5:30</td>\n",
       "      <td>S. Dut</td>\n",
       "      <td>Bku</td>\n",
       "      <td>Tier2</td>\n",
       "      <td>0</td>\n",
       "      <td>8.0</td>\n",
       "      <td>2021</td>\n",
       "      <td>B.Tech</td>\n",
       "      <td>30000</td>\n",
       "    </tr>\n",
       "    <tr>\n",
       "      <th>1</th>\n",
       "      <td>2021/04/03 8:22:22 PM GMT+5:31</td>\n",
       "      <td>Archita Paine Kiit</td>\n",
       "      <td>Burdwan</td>\n",
       "      <td>Tier1</td>\n",
       "      <td>1</td>\n",
       "      <td>8.8</td>\n",
       "      <td>2020</td>\n",
       "      <td>BE</td>\n",
       "      <td>37000</td>\n",
       "    </tr>\n",
       "    <tr>\n",
       "      <th>2</th>\n",
       "      <td>2021/04/03 8:22:22 PM GMT+5:32</td>\n",
       "      <td>Pritam Panda</td>\n",
       "      <td>Kiit deemed to be university</td>\n",
       "      <td>Tier2</td>\n",
       "      <td>0</td>\n",
       "      <td>6.5</td>\n",
       "      <td>2021</td>\n",
       "      <td>B.SC</td>\n",
       "      <td>22000</td>\n",
       "    </tr>\n",
       "    <tr>\n",
       "      <th>3</th>\n",
       "      <td>2021/04/03 8:22:22 PM GMT+5:33</td>\n",
       "      <td>Prasun Chakraborty</td>\n",
       "      <td>Kiit deemed to be university</td>\n",
       "      <td>Tier2</td>\n",
       "      <td>1</td>\n",
       "      <td>7.0</td>\n",
       "      <td>2021</td>\n",
       "      <td>B.Tech</td>\n",
       "      <td>24000</td>\n",
       "    </tr>\n",
       "    <tr>\n",
       "      <th>4</th>\n",
       "      <td>2021/04/03 8:22:22 PM GMT+5:34</td>\n",
       "      <td>Papri Neogi</td>\n",
       "      <td>Bankura University</td>\n",
       "      <td>Tier3</td>\n",
       "      <td>0</td>\n",
       "      <td>8.5</td>\n",
       "      <td>2021</td>\n",
       "      <td>M.Tech</td>\n",
       "      <td>29000</td>\n",
       "    </tr>\n",
       "  </tbody>\n",
       "</table>\n",
       "</div>"
      ],
      "text/plain": [
       "                        Timestamp                Name  \\\n",
       "0  2021/04/03 8:22:22 PM GMT+5:30              S. Dut   \n",
       "1  2021/04/03 8:22:22 PM GMT+5:31  Archita Paine Kiit   \n",
       "2  2021/04/03 8:22:22 PM GMT+5:32        Pritam Panda   \n",
       "3  2021/04/03 8:22:22 PM GMT+5:33  Prasun Chakraborty   \n",
       "4  2021/04/03 8:22:22 PM GMT+5:34         Papri Neogi   \n",
       "\n",
       "                University Name University_Cat  Backlogs  CGPA  \\\n",
       "0                           Bku          Tier2         0   8.0   \n",
       "1                      Burdwan           Tier1         1   8.8   \n",
       "2  Kiit deemed to be university          Tier2         0   6.5   \n",
       "3  Kiit deemed to be university          Tier2         1   7.0   \n",
       "4            Bankura University          Tier3         0   8.5   \n",
       "\n",
       "   Year of Passout Qualification  Salary  \n",
       "0             2021        B.Tech   30000  \n",
       "1             2020            BE   37000  \n",
       "2             2021          B.SC   22000  \n",
       "3             2021        B.Tech   24000  \n",
       "4             2021        M.Tech   29000  "
      ]
     },
     "execution_count": 2,
     "metadata": {},
     "output_type": "execute_result"
    }
   ],
   "source": [
    "data = pd.read_csv(\"salary.csv\")\n",
    "data.head()"
   ]
  },
  {
   "cell_type": "code",
   "execution_count": 3,
   "id": "cb33d45f",
   "metadata": {},
   "outputs": [
    {
     "data": {
      "text/html": [
       "<div>\n",
       "<style scoped>\n",
       "    .dataframe tbody tr th:only-of-type {\n",
       "        vertical-align: middle;\n",
       "    }\n",
       "\n",
       "    .dataframe tbody tr th {\n",
       "        vertical-align: top;\n",
       "    }\n",
       "\n",
       "    .dataframe thead th {\n",
       "        text-align: right;\n",
       "    }\n",
       "</style>\n",
       "<table border=\"1\" class=\"dataframe\">\n",
       "  <thead>\n",
       "    <tr style=\"text-align: right;\">\n",
       "      <th></th>\n",
       "      <th>University_Cat</th>\n",
       "      <th>Backlogs</th>\n",
       "      <th>CGPA</th>\n",
       "      <th>Year of Passout</th>\n",
       "      <th>Qualification</th>\n",
       "      <th>Salary</th>\n",
       "    </tr>\n",
       "  </thead>\n",
       "  <tbody>\n",
       "    <tr>\n",
       "      <th>0</th>\n",
       "      <td>Tier2</td>\n",
       "      <td>0</td>\n",
       "      <td>8.0</td>\n",
       "      <td>2021</td>\n",
       "      <td>B.Tech</td>\n",
       "      <td>30000</td>\n",
       "    </tr>\n",
       "    <tr>\n",
       "      <th>1</th>\n",
       "      <td>Tier1</td>\n",
       "      <td>1</td>\n",
       "      <td>8.8</td>\n",
       "      <td>2020</td>\n",
       "      <td>BE</td>\n",
       "      <td>37000</td>\n",
       "    </tr>\n",
       "    <tr>\n",
       "      <th>2</th>\n",
       "      <td>Tier2</td>\n",
       "      <td>0</td>\n",
       "      <td>6.5</td>\n",
       "      <td>2021</td>\n",
       "      <td>B.SC</td>\n",
       "      <td>22000</td>\n",
       "    </tr>\n",
       "    <tr>\n",
       "      <th>3</th>\n",
       "      <td>Tier2</td>\n",
       "      <td>1</td>\n",
       "      <td>7.0</td>\n",
       "      <td>2021</td>\n",
       "      <td>B.Tech</td>\n",
       "      <td>24000</td>\n",
       "    </tr>\n",
       "    <tr>\n",
       "      <th>4</th>\n",
       "      <td>Tier3</td>\n",
       "      <td>0</td>\n",
       "      <td>8.5</td>\n",
       "      <td>2021</td>\n",
       "      <td>M.Tech</td>\n",
       "      <td>29000</td>\n",
       "    </tr>\n",
       "  </tbody>\n",
       "</table>\n",
       "</div>"
      ],
      "text/plain": [
       "  University_Cat  Backlogs  CGPA  Year of Passout Qualification  Salary\n",
       "0          Tier2         0   8.0             2021        B.Tech   30000\n",
       "1          Tier1         1   8.8             2020            BE   37000\n",
       "2          Tier2         0   6.5             2021          B.SC   22000\n",
       "3          Tier2         1   7.0             2021        B.Tech   24000\n",
       "4          Tier3         0   8.5             2021        M.Tech   29000"
      ]
     },
     "execution_count": 3,
     "metadata": {},
     "output_type": "execute_result"
    }
   ],
   "source": [
    "data = data.drop(columns=['Timestamp','University Name', 'Name'])\n",
    "data.head()"
   ]
  },
  {
   "cell_type": "code",
   "execution_count": 4,
   "id": "be2ee2ac",
   "metadata": {},
   "outputs": [
    {
     "data": {
      "text/plain": [
       "University_Cat     0\n",
       "Backlogs           0\n",
       "CGPA               0\n",
       "Year of Passout    0\n",
       "Qualification      0\n",
       "Salary             0\n",
       "dtype: int64"
      ]
     },
     "execution_count": 4,
     "metadata": {},
     "output_type": "execute_result"
    }
   ],
   "source": [
    "data.isnull().sum()"
   ]
  },
  {
   "cell_type": "code",
   "execution_count": 5,
   "id": "616ef0da",
   "metadata": {},
   "outputs": [
    {
     "data": {
      "text/plain": [
       "University_Cat      object\n",
       "Backlogs             int64\n",
       "CGPA               float64\n",
       "Year of Passout      int64\n",
       "Qualification       object\n",
       "Salary               int64\n",
       "dtype: object"
      ]
     },
     "execution_count": 5,
     "metadata": {},
     "output_type": "execute_result"
    }
   ],
   "source": [
    "data.dtypes"
   ]
  },
  {
   "cell_type": "code",
   "execution_count": 6,
   "id": "4e01d28b",
   "metadata": {},
   "outputs": [],
   "source": [
    "from sklearn.preprocessing import LabelEncoder\n",
    "le = LabelEncoder()"
   ]
  },
  {
   "cell_type": "code",
   "execution_count": 7,
   "id": "261fb8e8",
   "metadata": {},
   "outputs": [],
   "source": [
    "data['University_Cat'] = le.fit_transform(data['University_Cat'])\n",
    "data['Qualification'] = le.fit_transform(data['Qualification'])"
   ]
  },
  {
   "cell_type": "code",
   "execution_count": 8,
   "id": "b984e879",
   "metadata": {},
   "outputs": [],
   "source": [
    "X = data.drop(columns =['Salary'])\n",
    "Y = data['Salary']"
   ]
  },
  {
   "cell_type": "code",
   "execution_count": 9,
   "id": "5c7f736a",
   "metadata": {},
   "outputs": [
    {
     "data": {
      "text/plain": [
       "array([[ 0.06375767, -0.76376262, -0.32458327,  0.5976143 , -0.23570226],\n",
       "       [-1.14763808,  1.30930734,  0.81220607, -1.67332005,  0.88388348],\n",
       "       [ 0.06375767, -0.76376262, -2.45606328,  0.5976143 , -1.355288  ],\n",
       "       [ 0.06375767,  1.30930734, -1.74556994,  0.5976143 , -0.23570226],\n",
       "       [ 1.27515343, -0.76376262,  0.38591006,  0.5976143 ,  2.00346921],\n",
       "       [-1.14763808, -0.76376262,  0.10171273,  0.5976143 , -0.23570226],\n",
       "       [ 0.06375767,  1.30930734,  1.23850207,  0.5976143 ,  0.88388348],\n",
       "       [ 0.06375767,  1.30930734, -0.75087927,  0.5976143 ,  0.88388348],\n",
       "       [ 0.06375767, -0.76376262,  1.23850207, -1.67332005, -0.23570226],\n",
       "       [ 0.06375767, -0.76376262, -0.60878061,  0.5976143 , -0.23570226],\n",
       "       [ 1.27515343, -0.76376262, -1.03507661,  0.5976143 , -0.23570226],\n",
       "       [ 0.06375767,  1.30930734,  0.6701074 , -1.67332005, -1.355288  ],\n",
       "       [ 0.06375767, -0.76376262,  1.38060074,  0.5976143 , -0.23570226],\n",
       "       [ 0.06375767,  1.30930734,  0.47116927, -1.67332005,  2.00346921],\n",
       "       [-1.14763808, -0.76376262,  0.95430473,  0.5976143 , -0.23570226],\n",
       "       [ 0.06375767, -0.76376262,  0.286441  ,  0.5976143 , -1.355288  ],\n",
       "       [ 2.48654918, -0.76376262,  0.17276206, -1.67332005, -1.355288  ],\n",
       "       [ 0.06375767, -0.76376262, -0.32458327,  0.5976143 ,  0.88388348],\n",
       "       [-2.35903384,  1.30930734, -0.46668194,  0.5976143 , -0.23570226]])"
      ]
     },
     "execution_count": 9,
     "metadata": {},
     "output_type": "execute_result"
    }
   ],
   "source": [
    "from sklearn.preprocessing import StandardScaler\n",
    "sd = StandardScaler()\n",
    "sd.fit_transform(X)"
   ]
  },
  {
   "cell_type": "code",
   "execution_count": 10,
   "id": "d6a43dbc",
   "metadata": {},
   "outputs": [],
   "source": [
    "from sklearn.model_selection import train_test_split\n",
    "x_train,x_test,y_train,y_test = train_test_split(X,Y,test_size=0.2,random_state=0)"
   ]
  },
  {
   "cell_type": "code",
   "execution_count": 11,
   "id": "349a92ec",
   "metadata": {},
   "outputs": [
    {
     "data": {
      "text/plain": [
       "LinearRegression()"
      ]
     },
     "execution_count": 11,
     "metadata": {},
     "output_type": "execute_result"
    }
   ],
   "source": [
    "from sklearn.linear_model import LinearRegression\n",
    "model = LinearRegression()\n",
    "model.fit(x_train,y_train)"
   ]
  },
  {
   "cell_type": "code",
   "execution_count": 12,
   "id": "ce71ec62",
   "metadata": {},
   "outputs": [],
   "source": [
    "y_prediction = model.predict(x_test)"
   ]
  },
  {
   "cell_type": "code",
   "execution_count": 13,
   "id": "a2e09af6",
   "metadata": {},
   "outputs": [
    {
     "data": {
      "text/plain": [
       "array([23143.39223688, 29195.83113245, 30978.78243626, 26661.81644747])"
      ]
     },
     "execution_count": 13,
     "metadata": {},
     "output_type": "execute_result"
    }
   ],
   "source": [
    "y_prediction"
   ]
  },
  {
   "cell_type": "code",
   "execution_count": 14,
   "id": "d39d6319",
   "metadata": {},
   "outputs": [
    {
     "data": {
      "text/plain": [
       "0.425695091036583"
      ]
     },
     "execution_count": 14,
     "metadata": {},
     "output_type": "execute_result"
    }
   ],
   "source": [
    "model.score(x_test,y_test)"
   ]
  },
  {
   "cell_type": "code",
   "execution_count": 15,
   "id": "98a3048e",
   "metadata": {},
   "outputs": [
    {
     "data": {
      "text/plain": [
       "array([31407.22196296])"
      ]
     },
     "execution_count": 15,
     "metadata": {},
     "output_type": "execute_result"
    }
   ],
   "source": [
    "x = model.predict([[3,0,9.0,2021,4]])\n",
    "x"
   ]
  },
  {
   "cell_type": "code",
   "execution_count": 16,
   "id": "d56c41e7",
   "metadata": {},
   "outputs": [],
   "source": [
    "import pickle\n",
    "file = './Model/Model2.pkl'\n",
    "with open(file,'wb') as f:\n",
    "    pickle.dump(model,f)"
   ]
  },
  {
   "cell_type": "code",
   "execution_count": 17,
   "id": "2c126c4f",
   "metadata": {},
   "outputs": [],
   "source": [
    "with open(file,'rb') as f:\n",
    "    k = pickle.load(f)"
   ]
  },
  {
   "cell_type": "code",
   "execution_count": null,
   "id": "c99e30b6",
   "metadata": {},
   "outputs": [],
   "source": []
  }
 ],
 "metadata": {
  "kernelspec": {
   "display_name": "Python 3 (ipykernel)",
   "language": "python",
   "name": "python3"
  },
  "language_info": {
   "codemirror_mode": {
    "name": "ipython",
    "version": 3
   },
   "file_extension": ".py",
   "mimetype": "text/x-python",
   "name": "python",
   "nbconvert_exporter": "python",
   "pygments_lexer": "ipython3",
   "version": "3.9.7"
  }
 },
 "nbformat": 4,
 "nbformat_minor": 5
}
